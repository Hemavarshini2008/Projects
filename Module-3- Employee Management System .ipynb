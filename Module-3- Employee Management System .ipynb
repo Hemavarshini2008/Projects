{
 "cells": [
  {
   "cell_type": "markdown",
   "id": "ee6785fc-23fc-451c-ba3a-7450f209542d",
   "metadata": {},
   "source": [
    "## Mini Project:Employee Management System"
   ]
  },
  {
   "cell_type": "markdown",
   "id": "7f4a7d37-76a0-4688-8461-c37613bdf562",
   "metadata": {},
   "source": [
    "### Problem Statement:\n",
    "\n",
    "#### The Employee Management System (EMS) aims to address these challenges by providing a centralized, automated platform to store, update, and retrieve employee-related information. "
   ]
  },
  {
   "cell_type": "markdown",
   "id": "4f05f411-3dc9-411b-bec0-9417ec649963",
   "metadata": {},
   "source": [
    "### Data Collection:\n",
    "Use the Kaggle Song popularity predicto which contains. Download if from Kaggle.\n",
    "\n",
    "https://www.kaggle.com/datasets?search=Employee+Management+System"
   ]
  },
  {
   "cell_type": "code",
   "execution_count": 3,
   "id": "e285ef69-6202-43e2-8845-da97ca498fe1",
   "metadata": {},
   "outputs": [
    {
     "name": "stdout",
     "output_type": "stream",
     "text": [
      "\n",
      "==== Employee Management System ====\n",
      "1. Add Employee\n",
      "2. Mark Attendance\n",
      "3. View Employee Details\n",
      "4. View Attendance\n",
      "5. Exit\n"
     ]
    },
    {
     "name": "stdin",
     "output_type": "stream",
     "text": [
      "Enter choice:  1\n",
      "Enter Employee ID:  E001\n",
      "Enter Name:  John Doe\n",
      "Enter Salary:  50000\n",
      "Enter Department:  HR\n"
     ]
    },
    {
     "name": "stdout",
     "output_type": "stream",
     "text": [
      "Employee John Doe added successfully.\n",
      "\n",
      "==== Employee Management System ====\n",
      "1. Add Employee\n",
      "2. Mark Attendance\n",
      "3. View Employee Details\n",
      "4. View Attendance\n",
      "5. Exit\n"
     ]
    },
    {
     "name": "stdin",
     "output_type": "stream",
     "text": [
      "Enter choice:  2\n",
      "Enter Employee ID:  E001\n",
      "Enter Date (YYYY-MM-DD):  2025-06-10\n"
     ]
    },
    {
     "name": "stdout",
     "output_type": "stream",
     "text": [
      "Attendance marked for John Doe on 2025-06-10\n",
      "\n",
      "==== Employee Management System ====\n",
      "1. Add Employee\n",
      "2. Mark Attendance\n",
      "3. View Employee Details\n",
      "4. View Attendance\n",
      "5. Exit\n"
     ]
    },
    {
     "name": "stdin",
     "output_type": "stream",
     "text": [
      "Enter choice:  4\n",
      "Enter Employee ID:  E001\n"
     ]
    },
    {
     "name": "stdout",
     "output_type": "stream",
     "text": [
      "Attendance for John Doe: ['2025-06-10']\n",
      "\n",
      "==== Employee Management System ====\n",
      "1. Add Employee\n",
      "2. Mark Attendance\n",
      "3. View Employee Details\n",
      "4. View Attendance\n",
      "5. Exit\n"
     ]
    },
    {
     "name": "stdin",
     "output_type": "stream",
     "text": [
      "Enter choice:  1\n",
      "Enter Employee ID:  E001\n",
      "Enter Name:  Add a new employee\n",
      "Enter Salary:  50000\n",
      "Enter Department:  IT\n"
     ]
    },
    {
     "name": "stdout",
     "output_type": "stream",
     "text": [
      "Employee ID already exists.\n",
      "\n",
      "==== Employee Management System ====\n",
      "1. Add Employee\n",
      "2. Mark Attendance\n",
      "3. View Employee Details\n",
      "4. View Attendance\n",
      "5. Exit\n"
     ]
    },
    {
     "name": "stdin",
     "output_type": "stream",
     "text": [
      "Enter choice:  5\n"
     ]
    },
    {
     "name": "stdout",
     "output_type": "stream",
     "text": [
      "Exiting system.\n"
     ]
    }
   ],
   "source": [
    "class Employee:\n",
    "    def __init__(self, emp_id, name, salary, department):\n",
    "        self.emp_id = emp_id\n",
    "        self.name = name\n",
    "        self.salary = salary\n",
    "        self.department = department\n",
    "        self.attendance = []\n",
    "\n",
    "    def mark_attendance(self, date):\n",
    "        self.attendance.append(date)\n",
    "\n",
    "    def get_details(self):\n",
    "        return f\"ID: {self.emp_id}, Name: {self.name}, Salary: {self.salary}, Department: {self.department}\"\n",
    "\n",
    "    def get_attendance(self):\n",
    "        return self.attendance\n",
    "\n",
    "\n",
    "class EmployeeManagementSystem:\n",
    "    def __init__(self):\n",
    "        self.employees = {}\n",
    "\n",
    "    def add_employee(self, emp_id, name, salary, department):\n",
    "        if emp_id in self.employees:\n",
    "            print(\"Employee ID already exists.\")\n",
    "        else:\n",
    "            self.employees[emp_id] = Employee(emp_id, name, salary, department)\n",
    "            print(f\"Employee {name} added successfully.\")\n",
    "\n",
    "    def mark_attendance(self, emp_id, date):\n",
    "        if emp_id in self.employees:\n",
    "            self.employees[emp_id].mark_attendance(date)\n",
    "            print(f\"Attendance marked for {self.employees[emp_id].name} on {date}\")\n",
    "        else:\n",
    "            print(\"Employee not found.\")\n",
    "\n",
    "    def view_employee(self, emp_id):\n",
    "        if emp_id in self.employees:\n",
    "            print(self.employees[emp_id].get_details())\n",
    "        else:\n",
    "            print(\"Employee not found.\")\n",
    "\n",
    "    def view_attendance(self, emp_id):\n",
    "        if emp_id in self.employees:\n",
    "            attendance = self.employees[emp_id].get_attendance()\n",
    "            print(f\"Attendance for {self.employees[emp_id].name}: {attendance}\")\n",
    "        else:\n",
    "            print(\"Employee not found.\")\n",
    "\n",
    "\n",
    "# Simple CLI menu\n",
    "def menu():\n",
    "    system = EmployeeManagementSystem()\n",
    "    \n",
    "    while True:\n",
    "        print(\"\\n==== Employee Management System ====\")\n",
    "        print(\"1. Add Employee\")\n",
    "        print(\"2. Mark Attendance\")\n",
    "        print(\"3. View Employee Details\")\n",
    "        print(\"4. View Attendance\")\n",
    "        print(\"5. Exit\")\n",
    "\n",
    "        choice = input(\"Enter choice: \")\n",
    "\n",
    "        if choice == '1':\n",
    "            emp_id = input(\"Enter Employee ID: \")\n",
    "            name = input(\"Enter Name: \")\n",
    "            salary = float(input(\"Enter Salary: \"))\n",
    "            dept = input(\"Enter Department: \")\n",
    "            system.add_employee(emp_id, name, salary, dept)\n",
    "\n",
    "        elif choice == '2':\n",
    "            emp_id = input(\"Enter Employee ID: \")\n",
    "            date = input(\"Enter Date (YYYY-MM-DD): \")\n",
    "            system.mark_attendance(emp_id, date)\n",
    "\n",
    "        elif choice == '3':\n",
    "            emp_id = input(\"Enter Employee ID: \")\n",
    "            system.view_employee(emp_id)\n",
    "\n",
    "        elif choice == '4':\n",
    "            emp_id = input(\"Enter Employee ID: \")\n",
    "            system.view_attendance(emp_id)\n",
    "\n",
    "        elif choice == '5':\n",
    "            print(\"Exiting system.\")\n",
    "            break\n",
    "\n",
    "        else:\n",
    "            print(\"Invalid choice. Try again.\")\n",
    "\n",
    "\n",
    "if __name__ == \"__main__\":\n",
    "    menu()\n"
   ]
  },
  {
   "cell_type": "code",
   "execution_count": null,
   "id": "d9d94d8b-8240-40f0-9d57-06bd941cd63f",
   "metadata": {},
   "outputs": [],
   "source": []
  }
 ],
 "metadata": {
  "kernelspec": {
   "display_name": "Python 3 (ipykernel)",
   "language": "python",
   "name": "python3"
  },
  "language_info": {
   "codemirror_mode": {
    "name": "ipython",
    "version": 3
   },
   "file_extension": ".py",
   "mimetype": "text/x-python",
   "name": "python",
   "nbconvert_exporter": "python",
   "pygments_lexer": "ipython3",
   "version": "3.12.7"
  }
 },
 "nbformat": 4,
 "nbformat_minor": 5
}
