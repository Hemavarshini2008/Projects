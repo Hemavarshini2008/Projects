{
 "cells": [
  {
   "cell_type": "markdown",
   "id": "3f0470d9-8e61-435b-a672-818bebe4fe27",
   "metadata": {},
   "source": [
    "### Mini Project:Currency Converter – Convert between different currencies using exchange rate APIs"
   ]
  },
  {
   "cell_type": "markdown",
   "id": "d89ec6e2-8db9-4968-802c-cff645d88060",
   "metadata": {},
   "source": [
    "#### D Currency Converter in Python that incorporates various programming concepts such as functions, loops, conditionals, exception handling, and more. We'll utilize a free exchange rate API to fetch real-time currency data.\n",
    "\n"
   ]
  },
  {
   "cell_type": "markdown",
   "id": "897c1375-7236-46d5-8177-d9f8bd8bae68",
   "metadata": {},
   "source": [
    "### Setup and Sample Currency Data"
   ]
  },
  {
   "cell_type": "code",
   "execution_count": 1,
   "id": "d198fbdc-3ed0-4920-9890-2d0c1ca7dd93",
   "metadata": {},
   "outputs": [],
   "source": [
    "exchange_rates = {\n",
    "    ('USD', 'INR'): 83.5,\n",
    "    ('INR', 'USD'): 0.012,\n",
    "    ('USD', 'EUR'): 0.93,\n",
    "    ('EUR', 'USD'): 1.07,\n",
    "    ('INR', 'EUR'): 0.011,\n",
    "    ('EUR', 'INR'): 88.6,\n",
    "}\n"
   ]
  },
  {
   "cell_type": "markdown",
   "id": "82154d5c-3651-49b0-835e-0945d619df46",
   "metadata": {},
   "source": [
    " ### Function and Conditional Statements "
   ]
  },
  {
   "cell_type": "code",
   "execution_count": 2,
   "id": "bcf843a7-9652-4e39-8cfb-50f61a1f415a",
   "metadata": {},
   "outputs": [],
   "source": [
    "def convert_currency(from_currency, to_currency, amount):\n",
    "    if (from_currency, to_currency) in exchange_rates:\n",
    "        rate = exchange_rates[(from_currency, to_currency)]\n",
    "        return amount * rate\n",
    "    else:\n",
    "        return None  \n"
   ]
  },
  {
   "cell_type": "markdown",
   "id": "27359be1-8620-49f4-bf52-832a790f4612",
   "metadata": {},
   "source": [
    "### User Input, Loop, and Loop Control"
   ]
  },
  {
   "cell_type": "code",
   "execution_count": 3,
   "id": "bcacbf0e-373b-42d3-801e-592e899f4ce4",
   "metadata": {},
   "outputs": [
    {
     "name": "stdout",
     "output_type": "stream",
     "text": [
      "\n",
      "Currency Converter\n",
      "Supported: USD, INR, EUR\n"
     ]
    },
    {
     "name": "stdin",
     "output_type": "stream",
     "text": [
      "From Currency (USD/INR/EUR):   83.5,\n",
      "To Currency (USD/INR/EUR):  0.012\n",
      "Amount to convert:  88.6,\n"
     ]
    },
    {
     "name": "stdout",
     "output_type": "stream",
     "text": [
      "Invalid amount entered.\n"
     ]
    },
    {
     "name": "stdin",
     "output_type": "stream",
     "text": [
      "Do you want to convert another? (yes/no):  no\n"
     ]
    }
   ],
   "source": [
    "while True:\n",
    "    print(\"\\nCurrency Converter\")\n",
    "    print(\"Supported: USD, INR, EUR\")\n",
    "    from_currency = input(\"From Currency (USD/INR/EUR): \").upper()\n",
    "    to_currency = input(\"To Currency (USD/INR/EUR): \").upper()\n",
    "    \n",
    " \n",
    "    if from_currency == to_currency:\n",
    "        print(\"Source and target currencies must be different.\")\n",
    "        continue\n",
    "\n",
    "    try:\n",
    "        amount = float(input(\"Amount to convert: \"))\n",
    "        result = convert_currency(from_currency, to_currency, amount)\n",
    "        if result:\n",
    "            print(f\"{amount} {from_currency} = {result:.2f} {to_currency}\")\n",
    "        else:\n",
    "            print(\"Conversion rate not found.\")\n",
    "    except ValueError:\n",
    "        print(\"Invalid amount entered.\")\n",
    "\n",
    "    \n",
    "    \n",
    "    choice = input(\"Do you want to convert another? (yes/no): \").lower()\n",
    "    if choice != 'yes':\n",
    "        break\n"
   ]
  },
  {
   "cell_type": "markdown",
   "id": "67c4f914-cb87-4995-a636-4207191cf1ff",
   "metadata": {},
   "source": [
    "### Using Lists, Tuples, Dictionaries, Sets"
   ]
  },
  {
   "cell_type": "code",
   "execution_count": 4,
   "id": "99532fd2-20bc-4429-bf27-45a5839732d4",
   "metadata": {},
   "outputs": [
    {
     "name": "stdout",
     "output_type": "stream",
     "text": [
      "Supported currencies: {'USD', 'INR', 'EUR'}\n"
     ]
    }
   ],
   "source": [
    "supported_pairs = list(exchange_rates.keys())  \n",
    "unique_currencies = set([cur for pair in supported_pairs for cur in pair])\n",
    "print(\"Supported currencies:\", unique_currencies)"
   ]
  },
  {
   "cell_type": "markdown",
   "id": "ba89eb81-2008-4d12-9db0-09841675ad91",
   "metadata": {},
   "source": [
    "### Exception Handling (Already Used)\""
   ]
  },
  {
   "cell_type": "code",
   "execution_count": 5,
   "id": "94c6eca9-4b8e-45fe-8c86-9ef5b3f94723",
   "metadata": {},
   "outputs": [
    {
     "name": "stdin",
     "output_type": "stream",
     "text": [
      "Amount:  1000\n"
     ]
    }
   ],
   "source": [
    "try:\n",
    "    amount = float(input(\"Amount: \"))\n",
    "except ValueError:\n",
    "    print(\"Invalid amount.\")\n"
   ]
  },
  {
   "cell_type": "markdown",
   "id": "b894e62e-5d21-44eb-9dbb-59cc68a52bf0",
   "metadata": {},
   "source": [
    "### Reading/Writing Files"
   ]
  },
  {
   "cell_type": "code",
   "execution_count": 9,
   "id": "e7fa476a-6a7f-4c4f-a81e-acaa33404c7f",
   "metadata": {},
   "outputs": [],
   "source": [
    "def log_conversion(from_cur, to_cur, amount, result):\n",
    "    with open(\"conversion_log.txt\", \"a\") as file:\n",
    "        file.write(f\"{amount} {from_cur} = {result:.2f} {to_cur}\\n\")\n"
   ]
  },
  {
   "cell_type": "markdown",
   "id": "33bc247d-bcf1-4e23-819d-6b6fdbcb480d",
   "metadata": {},
   "source": [
    "### Nested Loops"
   ]
  },
  {
   "cell_type": "code",
   "execution_count": 11,
   "id": "6883b129-ac7c-4442-a4dc-35c78ecdc574",
   "metadata": {},
   "outputs": [
    {
     "name": "stdout",
     "output_type": "stream",
     "text": [
      "USD to INR: Rate = 83.5\n",
      "USD to EUR: Rate = 0.93\n",
      "INR to USD: Rate = 0.012\n",
      "INR to EUR: Rate = 0.011\n",
      "EUR to USD: Rate = 1.07\n",
      "EUR to INR: Rate = 88.6\n"
     ]
    }
   ],
   "source": [
    "for from_cur in unique_currencies:\n",
    "    for to_cur in unique_currencies:\n",
    "        if from_cur != to_cur:\n",
    "            print(f\"{from_cur} to {to_cur}: Rate = {exchange_rates.get((from_cur, to_cur), 'Not available')}\")\n"
   ]
  },
  {
   "cell_type": "markdown",
   "id": "c7796c9d-5225-47e4-ba40-dac260cf2b0a",
   "metadata": {},
   "source": [
    "### Object-Oriented Programming (OOP) "
   ]
  },
  {
   "cell_type": "code",
   "execution_count": 12,
   "id": "f5755ee3-66a3-43ad-b281-93f370072453",
   "metadata": {},
   "outputs": [],
   "source": [
    "class CurrencyConverter:\n",
    "    def __init__(self, rates):\n",
    "        self.rates = rates\n",
    "\n",
    "    def convert(self, from_cur, to_cur, amount):\n",
    "        key = (from_cur, to_cur)\n",
    "        if key in self.rates:\n",
    "            return amount * self.rates[key]\n",
    "        return None\n",
    "\n"
   ]
  },
  {
   "cell_type": "markdown",
   "id": "ffa737a6-2ec0-49b3-a317-2f07b926126d",
   "metadata": {},
   "source": [
    "### Lambda Function"
   ]
  },
  {
   "cell_type": "code",
   "execution_count": 13,
   "id": "8639c5d6-8b8b-4970-bfec-8a8ae9703b8a",
   "metadata": {},
   "outputs": [
    {
     "name": "stdout",
     "output_type": "stream",
     "text": [
      "Lambda test: 8350.0\n"
     ]
    }
   ],
   "source": [
    "calculate = lambda amt, rate: amt * rate\n",
    "print(\"Lambda test:\", calculate(100, 83.5))  # Output: 8350.0\n"
   ]
  },
  {
   "cell_type": "code",
   "execution_count": null,
   "id": "ab5e50ec-4cff-4d25-ae20-c14bbda58de9",
   "metadata": {},
   "outputs": [],
   "source": []
  }
 ],
 "metadata": {
  "kernelspec": {
   "display_name": "Python 3 (ipykernel)",
   "language": "python",
   "name": "python3"
  },
  "language_info": {
   "codemirror_mode": {
    "name": "ipython",
    "version": 3
   },
   "file_extension": ".py",
   "mimetype": "text/x-python",
   "name": "python",
   "nbconvert_exporter": "python",
   "pygments_lexer": "ipython3",
   "version": "3.12.7"
  }
 },
 "nbformat": 4,
 "nbformat_minor": 5
}
